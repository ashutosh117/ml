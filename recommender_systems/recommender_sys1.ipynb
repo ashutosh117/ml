{
 "cells": [
  {
   "cell_type": "code",
   "execution_count": 1,
   "metadata": {},
   "outputs": [],
   "source": [
    "import os\n",
    "import time\n",
    "import numpy as np\n",
    "import pandas as pd\n",
    "import matplotlib.pyplot as plt\n",
    "from sklearn.utils import shuffle\n",
    "\n",
    "import torch\n",
    "import torch.nn as nn\n",
    "import torch.nn.functional as F\n",
    "\n",
    "%matplotlib inline"
   ]
  },
  {
   "cell_type": "code",
   "execution_count": 2,
   "metadata": {},
   "outputs": [],
   "source": [
    "# !wget -nc http://files.grouplens.org/datasets/movielens/ml-20m.zip"
   ]
  },
  {
   "cell_type": "code",
   "execution_count": 3,
   "metadata": {},
   "outputs": [],
   "source": [
    "# !unzip ml-20m.zip"
   ]
  },
  {
   "cell_type": "code",
   "execution_count": 4,
   "metadata": {},
   "outputs": [
    {
     "name": "stdout",
     "output_type": "stream",
     "text": [
      "['README.txt', 'links.csv', 'ratings.csv', 'tags.csv', 'movies.csv', 'genome-scores.csv', 'genome-tags.csv']\n"
     ]
    }
   ],
   "source": [
    "DATA_DIR = 'ml-20m/'\n",
    "print(os.listdir(DATA_DIR))"
   ]
  },
  {
   "cell_type": "code",
   "execution_count": 5,
   "metadata": {},
   "outputs": [
    {
     "name": "stdout",
     "output_type": "stream",
     "text": [
      "(20000263, 4)\n"
     ]
    },
    {
     "data": {
      "text/html": [
       "<div>\n",
       "<style scoped>\n",
       "    .dataframe tbody tr th:only-of-type {\n",
       "        vertical-align: middle;\n",
       "    }\n",
       "\n",
       "    .dataframe tbody tr th {\n",
       "        vertical-align: top;\n",
       "    }\n",
       "\n",
       "    .dataframe thead th {\n",
       "        text-align: right;\n",
       "    }\n",
       "</style>\n",
       "<table border=\"1\" class=\"dataframe\">\n",
       "  <thead>\n",
       "    <tr style=\"text-align: right;\">\n",
       "      <th></th>\n",
       "      <th>userId</th>\n",
       "      <th>movieId</th>\n",
       "      <th>rating</th>\n",
       "      <th>timestamp</th>\n",
       "    </tr>\n",
       "  </thead>\n",
       "  <tbody>\n",
       "    <tr>\n",
       "      <th>0</th>\n",
       "      <td>1</td>\n",
       "      <td>2</td>\n",
       "      <td>3.5</td>\n",
       "      <td>1112486027</td>\n",
       "    </tr>\n",
       "    <tr>\n",
       "      <th>1</th>\n",
       "      <td>1</td>\n",
       "      <td>29</td>\n",
       "      <td>3.5</td>\n",
       "      <td>1112484676</td>\n",
       "    </tr>\n",
       "    <tr>\n",
       "      <th>2</th>\n",
       "      <td>1</td>\n",
       "      <td>32</td>\n",
       "      <td>3.5</td>\n",
       "      <td>1112484819</td>\n",
       "    </tr>\n",
       "    <tr>\n",
       "      <th>3</th>\n",
       "      <td>1</td>\n",
       "      <td>47</td>\n",
       "      <td>3.5</td>\n",
       "      <td>1112484727</td>\n",
       "    </tr>\n",
       "    <tr>\n",
       "      <th>4</th>\n",
       "      <td>1</td>\n",
       "      <td>50</td>\n",
       "      <td>3.5</td>\n",
       "      <td>1112484580</td>\n",
       "    </tr>\n",
       "  </tbody>\n",
       "</table>\n",
       "</div>"
      ],
      "text/plain": [
       "   userId  movieId  rating   timestamp\n",
       "0       1        2     3.5  1112486027\n",
       "1       1       29     3.5  1112484676\n",
       "2       1       32     3.5  1112484819\n",
       "3       1       47     3.5  1112484727\n",
       "4       1       50     3.5  1112484580"
      ]
     },
     "execution_count": 5,
     "metadata": {},
     "output_type": "execute_result"
    }
   ],
   "source": [
    "ratings = pd.read_csv(DATA_DIR+'ratings.csv')\n",
    "print(ratings.shape)\n",
    "ratings.head()"
   ]
  },
  {
   "cell_type": "code",
   "execution_count": 6,
   "metadata": {},
   "outputs": [],
   "source": [
    "ratings.userId = pd.Categorical(ratings.userId)\n",
    "ratings['userId_codes'] = ratings.userId.cat.codes"
   ]
  },
  {
   "cell_type": "code",
   "execution_count": 7,
   "metadata": {},
   "outputs": [],
   "source": [
    "ratings.movieId = pd.Categorical(ratings.movieId)\n",
    "ratings['movieId_codes'] = ratings.movieId.cat.codes"
   ]
  },
  {
   "cell_type": "code",
   "execution_count": 8,
   "metadata": {},
   "outputs": [
    {
     "data": {
      "text/html": [
       "<div>\n",
       "<style scoped>\n",
       "    .dataframe tbody tr th:only-of-type {\n",
       "        vertical-align: middle;\n",
       "    }\n",
       "\n",
       "    .dataframe tbody tr th {\n",
       "        vertical-align: top;\n",
       "    }\n",
       "\n",
       "    .dataframe thead th {\n",
       "        text-align: right;\n",
       "    }\n",
       "</style>\n",
       "<table border=\"1\" class=\"dataframe\">\n",
       "  <thead>\n",
       "    <tr style=\"text-align: right;\">\n",
       "      <th></th>\n",
       "      <th>userId</th>\n",
       "      <th>movieId</th>\n",
       "      <th>rating</th>\n",
       "      <th>timestamp</th>\n",
       "      <th>userId_codes</th>\n",
       "      <th>movieId_codes</th>\n",
       "    </tr>\n",
       "  </thead>\n",
       "  <tbody>\n",
       "    <tr>\n",
       "      <th>0</th>\n",
       "      <td>1</td>\n",
       "      <td>2</td>\n",
       "      <td>3.5</td>\n",
       "      <td>1112486027</td>\n",
       "      <td>0</td>\n",
       "      <td>1</td>\n",
       "    </tr>\n",
       "    <tr>\n",
       "      <th>1</th>\n",
       "      <td>1</td>\n",
       "      <td>29</td>\n",
       "      <td>3.5</td>\n",
       "      <td>1112484676</td>\n",
       "      <td>0</td>\n",
       "      <td>28</td>\n",
       "    </tr>\n",
       "    <tr>\n",
       "      <th>2</th>\n",
       "      <td>1</td>\n",
       "      <td>32</td>\n",
       "      <td>3.5</td>\n",
       "      <td>1112484819</td>\n",
       "      <td>0</td>\n",
       "      <td>31</td>\n",
       "    </tr>\n",
       "    <tr>\n",
       "      <th>3</th>\n",
       "      <td>1</td>\n",
       "      <td>47</td>\n",
       "      <td>3.5</td>\n",
       "      <td>1112484727</td>\n",
       "      <td>0</td>\n",
       "      <td>46</td>\n",
       "    </tr>\n",
       "    <tr>\n",
       "      <th>4</th>\n",
       "      <td>1</td>\n",
       "      <td>50</td>\n",
       "      <td>3.5</td>\n",
       "      <td>1112484580</td>\n",
       "      <td>0</td>\n",
       "      <td>49</td>\n",
       "    </tr>\n",
       "  </tbody>\n",
       "</table>\n",
       "</div>"
      ],
      "text/plain": [
       "  userId movieId  rating   timestamp  userId_codes  movieId_codes\n",
       "0      1       2     3.5  1112486027             0              1\n",
       "1      1      29     3.5  1112484676             0             28\n",
       "2      1      32     3.5  1112484819             0             31\n",
       "3      1      47     3.5  1112484727             0             46\n",
       "4      1      50     3.5  1112484580             0             49"
      ]
     },
     "execution_count": 8,
     "metadata": {},
     "output_type": "execute_result"
    }
   ],
   "source": [
    "ratings.head()"
   ]
  },
  {
   "cell_type": "code",
   "execution_count": 9,
   "metadata": {},
   "outputs": [
    {
     "name": "stdout",
     "output_type": "stream",
     "text": [
      "Unique User ids :  138493\n",
      "Unique Movie ids :  26744\n"
     ]
    }
   ],
   "source": [
    "print('Unique User ids : ',len(ratings.userId_codes.unique()))\n",
    "print('Unique Movie ids : ',len(ratings.movieId_codes.unique()))"
   ]
  },
  {
   "cell_type": "code",
   "execution_count": 9,
   "metadata": {},
   "outputs": [],
   "source": [
    "class Model(nn.Module):\n",
    "    def __init__(self,n_users,n_movies,embed_dim,hidden_units = 1024):\n",
    "        super(Model,self).__init__()\n",
    "        self.N = n_users\n",
    "        self.D = embed_dim\n",
    "        self.M = n_movies\n",
    "        self.n_hidden = hidden_units\n",
    "        \n",
    "        self.user_embed = nn.Embedding(self.N,self.D)\n",
    "        self.movie_embed = nn.Embedding(self.M,self.D)\n",
    "        \n",
    "        self.fc1 = nn.Linear(2 * self.D , self.n_hidden)\n",
    "        self.fc2 = nn.Linear(self.n_hidden,1)\n",
    "        \n",
    "    def forward(self,user,movie):\n",
    "        out_user = self.user_embed(user)\n",
    "        out_movie = self.movie_embed(movie)\n",
    "        \n",
    "        out = torch.cat((out_user,out_movie),1)\n",
    "        out = self.fc1(out)\n",
    "        out = F.relu(out)\n",
    "        out = self.fc2(out)\n",
    "        return out"
   ]
  },
  {
   "cell_type": "code",
   "execution_count": 10,
   "metadata": {},
   "outputs": [
    {
     "name": "stdout",
     "output_type": "stream",
     "text": [
      "Unique users :  138493\n",
      "Unoque movies :  26744\n"
     ]
    }
   ],
   "source": [
    "## create dataset\n",
    "user_ids_np = ratings.userId_codes.values\n",
    "movie_ids_np = ratings.movieId_codes.values\n",
    "ratings_np = ratings.rating.values\n",
    "\n",
    "N = len(set(user_ids_np))\n",
    "M = len(set(movie_ids_np))\n",
    "print('Unique users : ',N)\n",
    "print('Unoque movies : ',M)"
   ]
  },
  {
   "cell_type": "code",
   "execution_count": 11,
   "metadata": {},
   "outputs": [],
   "source": [
    "# randomly shuffle dataset\n",
    "user_ids_np,movie_ids_np,ratings_np = shuffle(user_ids_np,movie_ids_np,ratings_np)\n",
    "\n",
    "# convert numpy arras into tensors\n",
    "user_ids_t = torch.from_numpy(user_ids_np).long()\n",
    "movie_ids_t = torch.from_numpy(movie_ids_np).long()\n",
    "ratings_t = torch.from_numpy(ratings_np)\n",
    "\n",
    "# create data iterator\n",
    "N_train = int(0.8 * len(ratings_np))\n",
    "train_dataset = torch.utils.data.TensorDataset(\n",
    "    user_ids_t[:N_train],\n",
    "    movie_ids_t[:N_train],\n",
    "    ratings_t[:N_train]\n",
    ")\n",
    "\n",
    "test_dataset = torch.utils.data.TensorDataset(\n",
    "    user_ids_t[N_train:],\n",
    "    movie_ids_t[N_train:],\n",
    "    ratings_t[N_train:]\n",
    ")\n",
    "\n",
    "train_loader = torch.utils.data.DataLoader(train_dataset,batch_size = 32,shuffle = True)\n",
    "test_loader = torch.utils.data.DataLoader(test_dataset,batch_size = 16,shuffle = False)"
   ]
  },
  {
   "cell_type": "code",
   "execution_count": 12,
   "metadata": {},
   "outputs": [
    {
     "name": "stdout",
     "output_type": "stream",
     "text": [
      "cuda:0\n"
     ]
    }
   ],
   "source": [
    "### constants\n",
    "# N = len(set(user_ids_np))\n",
    "# M = len(set(movie_ids_np))\n",
    "D = 10\n",
    "DEVICE = 'cuda:0' if torch.cuda.is_available() else 'cpu'\n",
    "\n",
    "print(DEVICE)"
   ]
  },
  {
   "cell_type": "code",
   "execution_count": 13,
   "metadata": {},
   "outputs": [
    {
     "name": "stdout",
     "output_type": "stream",
     "text": [
      "Model(\n",
      "  (user_embed): Embedding(138493, 10)\n",
      "  (movie_embed): Embedding(26744, 10)\n",
      "  (fc1): Linear(in_features=20, out_features=1024, bias=True)\n",
      "  (fc2): Linear(in_features=1024, out_features=1, bias=True)\n",
      ")\n"
     ]
    }
   ],
   "source": [
    "## load model\n",
    "\n",
    "model = Model(N,M,D)\n",
    "model.to(DEVICE)\n",
    "print(model)"
   ]
  },
  {
   "cell_type": "code",
   "execution_count": 14,
   "metadata": {},
   "outputs": [],
   "source": [
    "criterion = nn.MSELoss()\n",
    "optimizer = torch.optim.Adam(model.parameters())"
   ]
  },
  {
   "cell_type": "code",
   "execution_count": 15,
   "metadata": {},
   "outputs": [],
   "source": [
    "# def train_model(model,optimizer,criterion,train_iter,test_iter,epochs,device = 'cpu'):\n",
    "    \n",
    "#     train_losses = np.zeros(epochs)\n",
    "#     test_losses = np.zeros(epochs)\n",
    "    \n",
    "#     for epoch in range(epochs):\n",
    "        \n",
    "#         start_time = time.time()\n",
    "        \n",
    "#         # train batch loop\n",
    "#         train_loss = []\n",
    "#         for user,movie,rating in train_iter:\n",
    "#             rating = rating.view(-1,1).float()\n",
    "#             user,movie,rating = user.to(device),movie.to(device),rating.to(device)\n",
    "            \n",
    "#             optimizer.zero_grad()\n",
    "#             out = model(user,movie)\n",
    "# #             print('out shape : ',out.shape)\n",
    "#             loss = criterion(out,rating)\n",
    "#             loss.backward()\n",
    "#             optimizer.step()\n",
    "            \n",
    "#             train_loss.append(loss.item())\n",
    "        \n",
    "#         tr_loss_ = np.mean(train_loss)\n",
    "#         train_losses[epoch] = tr_loss_\n",
    "        \n",
    "#         # test batch loop\n",
    "#         test_loss = []\n",
    "#         for user,movie,rating in test_iter:\n",
    "#             rating = rating.view(-1,1).float()\n",
    "# #             print(rating.shape)\n",
    "#             user,movie,rating = user.to(device),movie.to(device),rating.to(device)\n",
    "            \n",
    "#             out = model(user,movie)\n",
    "# #             print(out)\n",
    "#             loss = criterion(out,rating)\n",
    "            \n",
    "#             test_loss.append(loss.item())\n",
    "            \n",
    "#         te_loss_ = np.mean(test_loss)\n",
    "#         test_losses[epoch] = te_loss_\n",
    "        \n",
    "#         time_taken = time.time() - start_time\n",
    "#         torch.save(model.state_dict(),'tmp/reco_model_epoch_{}.pt'.format(epoch))\n",
    "#         print(f'Epoch : {epoch}, train loss : {tr_loss_:.4f}, test loss : {te_loss_:.4f}, duration : {time_taken:.4f}')\n",
    "        \n",
    "#     return train_losses,test_losses\n",
    "\n",
    "# train_loss,test_loss = train_model(model,optimizer,criterion,train_loader,test_loader,25,device = DEVICE)"
   ]
  },
  {
   "cell_type": "code",
   "execution_count": 16,
   "metadata": {},
   "outputs": [],
   "source": [
    "def train_model(model,optimizer,criterion,train_dataset,test_dataset,batch_size,epochs,device = 'cpu'):\n",
    "    \n",
    "    train_losses = np.zeros(epochs)\n",
    "    test_losses = np.zeros(epochs)\n",
    "    \n",
    "    n_train_batches = len(train_dataset)//batch_size\n",
    "    n_test_batches = len(test_dataset)//batch_size\n",
    "    print('no of training batches : ',n_train_batches)\n",
    "    print('no of testing batches : ',n_test_batches)\n",
    "    \n",
    "    train_users,train_movies,train_ratings = train_dataset.tensors\n",
    "    test_users,test_movies,test_ratings = test_dataset.tensors\n",
    "    \n",
    "    for epoch in range(epochs):\n",
    "        \n",
    "        start_time = time.time()\n",
    "        \n",
    "        # train batch loop\n",
    "        train_loss = []\n",
    "        train_users,train_movies,train_ratings = shuffle(train_users,train_movies,train_ratings)\n",
    "\n",
    "        for batch_no in range(n_train_batches):\n",
    "            user = train_users[(batch_no*batch_size) : (batch_no*batch_size + batch_size)]\n",
    "            movie = train_movies[(batch_no*batch_size) : (batch_no*batch_size + batch_size)]\n",
    "            rating = train_ratings[(batch_no*batch_size) : (batch_no*batch_size + batch_size)]\n",
    "            \n",
    "            rating = rating.view(-1,1).float()\n",
    "            user,movie,rating = user.to(device),movie.to(device),rating.to(device)\n",
    "            \n",
    "            optimizer.zero_grad()\n",
    "            out = model(user,movie)\n",
    "            loss = criterion(out,rating)\n",
    "            loss.backward()\n",
    "            optimizer.step()\n",
    "            \n",
    "            train_loss.append(loss.item())\n",
    "        tr_loss_ = np.mean(train_loss)\n",
    "        train_losses[epoch] = tr_loss_\n",
    "            \n",
    "        \n",
    "        # test batch loop\n",
    "        test_loss = []\n",
    "        \n",
    "        test_users,test_movies,test_ratings = shuffle(test_users,test_movies,test_ratings)\n",
    "        \n",
    "        for batch_no in range(n_test_batches):\n",
    "            user = test_users[(batch_no*batch_size) : (batch_no*batch_size + batch_size)]\n",
    "            movie = test_movies[(batch_no*batch_size) : (batch_no*batch_size + batch_size)]\n",
    "            rating = test_ratings[(batch_no*batch_size) : (batch_no*batch_size + batch_size)]\n",
    "            rating = rating.view(-1,1).float()\n",
    "#             print(rating.shape)\n",
    "            user,movie,rating = user.to(device),movie.to(device),rating.to(device)\n",
    "            \n",
    "            out = model(user,movie)\n",
    "#             print(out)\n",
    "            loss = criterion(out,rating)\n",
    "            \n",
    "            test_loss.append(loss.item())\n",
    "        te_loss_ = np.mean(test_loss)\n",
    "        test_losses[epoch] = te_loss_\n",
    "            \n",
    "        \n",
    "        time_taken = time.time() - start_time\n",
    "        torch.save(model.state_dict(),'tmp/reco_model_epoch_{}.pt'.format(epoch))\n",
    "        print(f'Epoch : {epoch}, train loss : {tr_loss_:.4f}, test loss : {te_loss_:.4f}, duration : {time_taken:.4f}')\n",
    "        \n",
    "    return train_losses,test_losses\n",
    "\n",
    "# train_loss,test_loss = train_model(model,optimizer,criterion,train_dataset,test_dataset,32,25,device = DEVICE)"
   ]
  },
  {
   "cell_type": "code",
   "execution_count": 26,
   "metadata": {},
   "outputs": [
    {
     "name": "stdout",
     "output_type": "stream",
     "text": [
      "torch.Size([16000210]) torch.Size([16000210]) torch.Size([16000210])\n"
     ]
    }
   ],
   "source": [
    "train_users,train_movies,train_ratings = train_dataset.tensors\n",
    "test_users,test_movies,test_ratings = test_dataset.tensors\n",
    "print(train_users.shape,train_movies.shape,train_ratings.shape)"
   ]
  },
  {
   "cell_type": "code",
   "execution_count": 28,
   "metadata": {},
   "outputs": [
    {
     "name": "stdout",
     "output_type": "stream",
     "text": [
      "3.1799793243408203\n"
     ]
    }
   ],
   "source": [
    "## making predcitions using trained model\n",
    "\n",
    "# load model weights (pytorch epoch 25)\n",
    "model_pth = 'tmp/reco_model_epoch_24.pt'\n",
    "model.load_state_dict(torch.load(model_pth))\n",
    "\n",
    "# using single observation\n",
    "random_int = np.random.randint(len(test_ratings))\n",
    "# print(random_int)\n",
    "user,movie,rating = test_users[random_int:(random_int+1)],test_movies[random_int:(random_int+1)],test_ratings[random_int:(random_int+1)]\n",
    "# user = user.view(-1,1)\n",
    "# movie = movie.view(-1,1)\n",
    "# rating = rating.view(-1,1).float()\n",
    "user,movie,rating = user.to(DEVICE),movie.to(DEVICE),rating.to(DEVICE)\n",
    "# print(user,movie,rating)\n",
    "out = model(user,movie)\n",
    "print(out.item())"
   ]
  }
 ],
 "metadata": {
  "kernelspec": {
   "display_name": "Python 3",
   "language": "python",
   "name": "python3"
  },
  "language_info": {
   "codemirror_mode": {
    "name": "ipython",
    "version": 3
   },
   "file_extension": ".py",
   "mimetype": "text/x-python",
   "name": "python",
   "nbconvert_exporter": "python",
   "pygments_lexer": "ipython3",
   "version": "3.6.9"
  }
 },
 "nbformat": 4,
 "nbformat_minor": 4
}
